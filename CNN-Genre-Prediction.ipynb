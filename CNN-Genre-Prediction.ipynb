{
 "cells": [
  {
   "cell_type": "markdown",
   "id": "0533b4e7",
   "metadata": {},
   "source": [
    "\"\"\"\n",
    "End-to-end TensorFlow pipeline for multilabel tag classification from spectrogram JPGs.\n",
    "Assumptions:\n",
    "- You have a CSV with columns: musicbrainz_recording_id, artist, track, album, musicbrainz_artist, final_tags\n",
    "- Each spectrogram image is named <musicbrainz_recording_id>.jpg in an images/ folder (or point to your directory)\n",
    "- There are 8 possible tags (the script will compute unique tags and assert that length == 8)\n",
    "\n",
    "\n",
    "What this file provides:\n",
    "1. CSV + filesystem intersection: keep only common ids\n",
    "2. Parser for final_tags column (robust to quotes/encoding)\n",
    "3. Build tf.data.Dataset reading JPEGs, preprocessing, augmentation\n",
    "4. CNN model definition (Keras) for multilabel classification -> sigmoid outputs for each tag\n",
    "5. Training, validation split, callbacks, saving\n",
    "6. Inference functions that return probabilities per tag\n",
    "\n",
    "\n",
    "Run: adjust paths and hyperparameters near the top of the file.\n",
    "\"\"\""
   ]
  },
  {
   "cell_type": "code",
   "execution_count": 3,
   "id": "f70001e7",
   "metadata": {},
   "outputs": [],
   "source": [
    "import os\n",
    "import ast\n",
    "import json\n",
    "import random\n",
    "from pathlib import Path\n",
    "from typing import List, Tuple, Dict\n",
    "\n",
    "\n",
    "import numpy as np\n",
    "import pandas as pd\n",
    "import tensorflow as tf\n",
    "from sklearn.model_selection import train_test_split\n",
    "from sklearn.preprocessing import MultiLabelBinarizer"
   ]
  },
  {
   "cell_type": "code",
   "execution_count": 11,
   "id": "45c5a86b",
   "metadata": {},
   "outputs": [],
   "source": [
    "# ------------------------------- USER CONFIG -------------------------------\n",
    "CSV_PATH = \"data/tracks_metadata_202510071738.csv\" # path to your CSV\n",
    "IMAGE_DIR = \"data/spectrogram/\" # directory containing <mbid>.jpg\n",
    "IMAGE_EXT = \".jpg\" # image file extension\n",
    "IMAGE_SIZE = (1000, 400) # model input size\n",
    "BATCH_SIZE = 32\n",
    "AUTOTUNE = tf.data.AUTOTUNE\n",
    "EPOCHS = 40\n",
    "SEED = 42\n",
    "MODEL_OUTPUT = \"models/spectrogram_multilabel.h5\"\n",
    "# ---------------------------------------------------------------------------"
   ]
  },
  {
   "cell_type": "code",
   "execution_count": 25,
   "id": "fe49fe38",
   "metadata": {},
   "outputs": [],
   "source": [
    "# ------------------------------ UTIL FUNCTIONS -----------------------------\n",
    "\n",
    "\n",
    "def read_csv_and_filter(csv_path: str, image_dir: str, id_col: str = \"musicbrainz_recording_id\") -> pd.DataFrame:\n",
    "    \"\"\"Read CSV, parse tags column, and retain only rows with a matching image file present.\n",
    "    Returns a cleaned DataFrame with an added column 'image_path'.\n",
    "    \"\"\"\n",
    "    df = pd.read_csv(csv_path, usecols=[\"musicbrainz_recording_id\", \"final_tags\"])\n",
    "\n",
    "\n",
    "    if id_col not in df.columns:\n",
    "        raise ValueError(f\"CSV must contain column '{id_col}'. Found: {df.columns.tolist()}\")\n",
    "\n",
    "\n",
    "    # robust parser for final_tags column\n",
    "    if 'final_tags' not in df.columns:\n",
    "        raise ValueError(\"CSV must contain 'final_tags' column\")\n",
    "\n",
    "\n",
    "    def parse_final_tags_cell(cell):\n",
    "    # cell examples: '[\"pop\", \"blues-r&b-soul\"]' or \"['pop','rock']\"\n",
    "        if pd.isna(cell):\n",
    "            return []\n",
    "        if isinstance(cell, (list, tuple)):\n",
    "            return list(cell)\n",
    "        s = str(cell)\n",
    "        # Try: ast.literal_eval (safe) first\n",
    "        try:\n",
    "            parsed = ast.literal_eval(s)\n",
    "            if isinstance(parsed, (list, tuple)):\n",
    "                return [str(x).strip() for x in parsed]\n",
    "        except Exception:\n",
    "            pass\n",
    "        # Fallback: try to strip brackets and split by comma\n",
    "        s2 = s.strip().lstrip('[').rstrip(']')\n",
    "        parts = [p.strip().strip('\\\"').strip(\"'\") for p in s2.split(',') if p.strip()]\n",
    "        return parts\n",
    "\n",
    "\n",
    "    df['parsed_tags'] = df['final_tags'].apply(parse_final_tags_cell)\n",
    "\n",
    "\n",
    "    # build image path\n",
    "    def image_path_for_id(mbid):\n",
    "        return os.path.join(image_dir, f\"{mbid}{IMAGE_EXT}\")\n",
    "\n",
    "\n",
    "    df['image_path'] = df[id_col].apply(image_path_for_id)\n",
    "    # check existence\n",
    "    df['image_exists'] = df['image_path'].apply(os.path.exists)\n",
    "\n",
    "\n",
    "    # keep only existing\n",
    "    filtered = df[df['image_exists']].copy()\n",
    "    filtered.reset_index(drop=True, inplace=True)\n",
    "\n",
    "\n",
    "    total_csv = len(df)\n",
    "    total_images = sum(1 for _ in Path(image_dir).glob(f'*{IMAGE_EXT}'))\n",
    "    kept = len(filtered)\n",
    "    print(f\"CSV rows: {total_csv}, images in folder: {total_images}, kept after intersection: {kept}\")\n",
    "\n",
    "\n",
    "    return filtered"
   ]
  },
  {
   "cell_type": "code",
   "execution_count": 13,
   "id": "a7578475",
   "metadata": {},
   "outputs": [
    {
     "data": {
      "text/plain": [
       "'data/spectrogram/'"
      ]
     },
     "execution_count": 13,
     "metadata": {},
     "output_type": "execute_result"
    }
   ],
   "source": [
    "IMAGE_DIR"
   ]
  },
  {
   "cell_type": "code",
   "execution_count": 28,
   "id": "29a300a3",
   "metadata": {},
   "outputs": [
    {
     "name": "stdout",
     "output_type": "stream",
     "text": [
      "CSV rows: 1096, images in folder: 1083, kept after intersection: 1083\n"
     ]
    },
    {
     "data": {
      "text/html": [
       "<div>\n",
       "<style scoped>\n",
       "    .dataframe tbody tr th:only-of-type {\n",
       "        vertical-align: middle;\n",
       "    }\n",
       "\n",
       "    .dataframe tbody tr th {\n",
       "        vertical-align: top;\n",
       "    }\n",
       "\n",
       "    .dataframe thead th {\n",
       "        text-align: right;\n",
       "    }\n",
       "</style>\n",
       "<table border=\"1\" class=\"dataframe\">\n",
       "  <thead>\n",
       "    <tr style=\"text-align: right;\">\n",
       "      <th></th>\n",
       "      <th>musicbrainz_recording_id</th>\n",
       "      <th>final_tags</th>\n",
       "      <th>parsed_tags</th>\n",
       "      <th>image_path</th>\n",
       "      <th>image_exists</th>\n",
       "    </tr>\n",
       "  </thead>\n",
       "  <tbody>\n",
       "    <tr>\n",
       "      <th>241</th>\n",
       "      <td>3ec43616-c0f4-4100-82e0-973a67705f6a</td>\n",
       "      <td>[\"pop\"]</td>\n",
       "      <td>[pop]</td>\n",
       "      <td>data/spectrogram/3ec43616-c0f4-4100-82e0-973a6...</td>\n",
       "      <td>True</td>\n",
       "    </tr>\n",
       "    <tr>\n",
       "      <th>456</th>\n",
       "      <td>6f8beb66-ba91-45b3-9019-2d36cff68e7b</td>\n",
       "      <td>[\"pop\"]</td>\n",
       "      <td>[pop]</td>\n",
       "      <td>data/spectrogram/6f8beb66-ba91-45b3-9019-2d36c...</td>\n",
       "      <td>True</td>\n",
       "    </tr>\n",
       "    <tr>\n",
       "      <th>805</th>\n",
       "      <td>c58cbe16-1cf3-4abe-8ecf-72efc3df47af</td>\n",
       "      <td>[\"blues-r&amp;b-soul\", \"electronic-funk-disco-danc...</td>\n",
       "      <td>[blues-r&amp;b-soul, electronic-funk-disco-dance, ...</td>\n",
       "      <td>data/spectrogram/c58cbe16-1cf3-4abe-8ecf-72efc...</td>\n",
       "      <td>True</td>\n",
       "    </tr>\n",
       "    <tr>\n",
       "      <th>60</th>\n",
       "      <td>18121d60-bc40-49a9-92c7-87babed045aa</td>\n",
       "      <td>[\"hip_hop-rap\"]</td>\n",
       "      <td>[hip_hop-rap]</td>\n",
       "      <td>data/spectrogram/18121d60-bc40-49a9-92c7-87bab...</td>\n",
       "      <td>True</td>\n",
       "    </tr>\n",
       "    <tr>\n",
       "      <th>532</th>\n",
       "      <td>060134b9-d7aa-432f-9d0a-2e30eccc02de</td>\n",
       "      <td>[\"folk-classical-country-jazz\"]</td>\n",
       "      <td>[folk-classical-country-jazz]</td>\n",
       "      <td>data/spectrogram/060134b9-d7aa-432f-9d0a-2e30e...</td>\n",
       "      <td>True</td>\n",
       "    </tr>\n",
       "  </tbody>\n",
       "</table>\n",
       "</div>"
      ],
      "text/plain": [
       "                 musicbrainz_recording_id  \\\n",
       "241  3ec43616-c0f4-4100-82e0-973a67705f6a   \n",
       "456  6f8beb66-ba91-45b3-9019-2d36cff68e7b   \n",
       "805  c58cbe16-1cf3-4abe-8ecf-72efc3df47af   \n",
       "60   18121d60-bc40-49a9-92c7-87babed045aa   \n",
       "532  060134b9-d7aa-432f-9d0a-2e30eccc02de   \n",
       "\n",
       "                                            final_tags  \\\n",
       "241                                            [\"pop\"]   \n",
       "456                                            [\"pop\"]   \n",
       "805  [\"blues-r&b-soul\", \"electronic-funk-disco-danc...   \n",
       "60                                     [\"hip_hop-rap\"]   \n",
       "532                    [\"folk-classical-country-jazz\"]   \n",
       "\n",
       "                                           parsed_tags  \\\n",
       "241                                              [pop]   \n",
       "456                                              [pop]   \n",
       "805  [blues-r&b-soul, electronic-funk-disco-dance, ...   \n",
       "60                                       [hip_hop-rap]   \n",
       "532                      [folk-classical-country-jazz]   \n",
       "\n",
       "                                            image_path  image_exists  \n",
       "241  data/spectrogram/3ec43616-c0f4-4100-82e0-973a6...          True  \n",
       "456  data/spectrogram/6f8beb66-ba91-45b3-9019-2d36c...          True  \n",
       "805  data/spectrogram/c58cbe16-1cf3-4abe-8ecf-72efc...          True  \n",
       "60   data/spectrogram/18121d60-bc40-49a9-92c7-87bab...          True  \n",
       "532  data/spectrogram/060134b9-d7aa-432f-9d0a-2e30e...          True  "
      ]
     },
     "execution_count": 28,
     "metadata": {},
     "output_type": "execute_result"
    }
   ],
   "source": [
    "df = read_csv_and_filter(CSV_PATH, IMAGE_DIR)\n",
    "df.sample(5)"
   ]
  },
  {
   "cell_type": "code",
   "execution_count": 31,
   "id": "52ff6cbd",
   "metadata": {},
   "outputs": [
    {
     "data": {
      "text/plain": [
       "list"
      ]
     },
     "execution_count": 31,
     "metadata": {},
     "output_type": "execute_result"
    }
   ],
   "source": [
    "type(df.iloc[805].parsed_tags)"
   ]
  },
  {
   "cell_type": "code",
   "execution_count": 32,
   "id": "8296378b",
   "metadata": {},
   "outputs": [],
   "source": [
    "def build_tag_binarizer(df: pd.DataFrame, tag_col: str = 'parsed_tags', expected_n_tags: int = None) -> Tuple[MultiLabelBinarizer, List[str]]:\n",
    "    \"\"\"Create a MultiLabelBinarizer mapping.\n",
    "    If expected_n_tags provided, assert number of unique tags equals that value.\n",
    "    \"\"\"\n",
    "    mlb = MultiLabelBinarizer(sparse_output=False)\n",
    "    mlb.fit(df[tag_col])\n",
    "    classes = list(mlb.classes_)\n",
    "    print(f\"Found {len(classes)} unique tags: {classes}\")\n",
    "    if expected_n_tags is not None:\n",
    "        assert len(classes) == expected_n_tags, f\"Expected {expected_n_tags} tags but found {len(classes)}\"\n",
    "    return mlb, classes"
   ]
  },
  {
   "cell_type": "code",
   "execution_count": 33,
   "id": "76618c4f",
   "metadata": {},
   "outputs": [
    {
     "name": "stdout",
     "output_type": "stream",
     "text": [
      "Found 8 unique tags: ['blues-r&b-soul', 'electronic-funk-disco-dance', 'folk-classical-country-jazz', 'hip_hop-rap', 'opera-musical-theater-soundtrack-vocal-a_cappella', 'others', 'pop', 'rock-metal-psychedelic']\n"
     ]
    }
   ],
   "source": [
    "mlb, classes = build_tag_binarizer(df, tag_col='parsed_tags', expected_n_tags=None) # set to 8 if you want hard assert\n",
    "n_labels = len(classes)"
   ]
  },
  {
   "cell_type": "code",
   "execution_count": 37,
   "id": "b371ba97",
   "metadata": {},
   "outputs": [
    {
     "data": {
      "text/plain": [
       "(['blues-r&b-soul',\n",
       "  'electronic-funk-disco-dance',\n",
       "  'folk-classical-country-jazz',\n",
       "  'hip_hop-rap',\n",
       "  'opera-musical-theater-soundtrack-vocal-a_cappella',\n",
       "  'others',\n",
       "  'pop',\n",
       "  'rock-metal-psychedelic'],\n",
       " 8)"
      ]
     },
     "execution_count": 37,
     "metadata": {},
     "output_type": "execute_result"
    }
   ],
   "source": [
    "classes, n_labels"
   ]
  },
  {
   "cell_type": "code",
   "execution_count": null,
   "id": "3eca5d09",
   "metadata": {},
   "outputs": [],
   "source": []
  }
 ],
 "metadata": {
  "kernelspec": {
   "display_name": "Python 3",
   "language": "python",
   "name": "python3"
  },
  "language_info": {
   "codemirror_mode": {
    "name": "ipython",
    "version": 3
   },
   "file_extension": ".py",
   "mimetype": "text/x-python",
   "name": "python",
   "nbconvert_exporter": "python",
   "pygments_lexer": "ipython3",
   "version": "3.11.13"
  }
 },
 "nbformat": 4,
 "nbformat_minor": 5
}
